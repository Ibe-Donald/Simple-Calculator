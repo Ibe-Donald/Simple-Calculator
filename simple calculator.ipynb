{
 "cells": [
  {
   "cell_type": "markdown",
   "id": "3f806c74",
   "metadata": {},
   "source": [
    "# A SIMPLE CALCULATOR"
   ]
  },
  {
   "cell_type": "code",
   "execution_count": null,
   "id": "54f0bcf9",
   "metadata": {},
   "outputs": [],
   "source": [
    "#User enters an input of the operation his or she requires to be carried out"
   ]
  },
  {
   "cell_type": "code",
   "execution_count": null,
   "id": "d4fa170d",
   "metadata": {},
   "outputs": [],
   "source": [
    "user_operation  = input(\"Enter the Operation you wish to carry out :\")\n",
    "\n",
    "#next program makes use of the if condtional statement \n",
    "\n",
    "if (user_operation == \"add\"):\n",
    "    first_num = float(input(\"Enter a number : \"))\n",
    "    second_num = float(input(\"Enter another number : \"))\n",
    "    #it then takes the addition of both numbers\n",
    "    result = first_num + second_num\n",
    "    print(result)\n",
    "    \n",
    "elif (user_operation == \"subtraction\") :\n",
    "    first_num = float(input(\"Enter a number : \"))\n",
    "    second_num = float(input(\"Enter another number : \"))\n",
    "     #it then takes the subtraction of both numbers\n",
    "    result = first_num - second_num\n",
    "    print(result)   \n",
    "\n",
    "elif (user_operation == \"multiply\") :\n",
    "    first_num = float(input(\"Enter a number : \"))\n",
    "    second_num = float(input(\"Enter another number : \"))\n",
    "     #it then takes the multiplicatioN of both numbers\n",
    "    result = first_num * second_num\n",
    "    print(result) \n",
    "    \n",
    "elif (user_operation == \"division\") :\n",
    "    first_num = float(input(\"Enter a number : \"))\n",
    "    second_num = float(input(\"Enter another number : \"))\n",
    "     #it then takes the division of both numbers\n",
    "    result = first_num / second_num\n",
    "    print(result)  \n",
    "    \n",
    "elif (user_operation == \"exponetial\") :\n",
    "    first_num = float(input(\"Enter a number : \"))\n",
    "    second_num = float(input(\"Enter another number : \"))\n",
    "     #it then takes the first number to the power of the second number\n",
    "    result = first_num ** second_num\n",
    "    print(result)\n",
    "    \n",
    "else :\n",
    "    print(\"You will need to renter\")\n",
    "    "
   ]
  },
  {
   "cell_type": "code",
   "execution_count": null,
   "id": "94c2bdef",
   "metadata": {},
   "outputs": [],
   "source": []
  },
  {
   "cell_type": "code",
   "execution_count": null,
   "id": "d50d2175",
   "metadata": {},
   "outputs": [],
   "source": []
  }
 ],
 "metadata": {
  "kernelspec": {
   "display_name": "Python 3",
   "language": "python",
   "name": "python3"
  },
  "language_info": {
   "codemirror_mode": {
    "name": "ipython",
    "version": 3
   },
   "file_extension": ".py",
   "mimetype": "text/x-python",
   "name": "python",
   "nbconvert_exporter": "python",
   "pygments_lexer": "ipython3",
   "version": "3.8.8"
  }
 },
 "nbformat": 4,
 "nbformat_minor": 5
}
